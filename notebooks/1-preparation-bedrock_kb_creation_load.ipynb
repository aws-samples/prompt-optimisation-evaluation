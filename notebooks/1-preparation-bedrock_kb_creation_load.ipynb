{
 "cells": [
  {
   "cell_type": "code",
   "execution_count": null,
   "metadata": {},
   "outputs": [],
   "source": [
    "#Copyright Amazon.com, Inc. or its affiliates. All Rights Reserved.\n",
    "#SPDX-License-Identifier: MIT-0"
   ]
  },
  {
   "cell_type": "code",
   "execution_count": null,
   "metadata": {},
   "outputs": [],
   "source": [
    "%store -r target_dir_s3\n",
    "%store -r bucket_name"
   ]
  },
  {
   "cell_type": "code",
   "execution_count": null,
   "metadata": {},
   "outputs": [],
   "source": [
    "!pip install -q -U opensearch-py\n",
    "!pip install -q boto3==1.34.144"
   ]
  },
  {
   "cell_type": "code",
   "execution_count": null,
   "metadata": {},
   "outputs": [],
   "source": [
    "import boto3\n",
    "import json\n",
    "import pprint as pp\n",
    "import random"
   ]
  },
  {
   "cell_type": "code",
   "execution_count": null,
   "metadata": {},
   "outputs": [],
   "source": [
    "sts_client = boto3.client('sts')\n",
    "s3_client = boto3.client('s3')\n",
    "boto3_session = boto3.session.Session()\n",
    "region_name = boto3_session.region_name\n",
    "bedrock_agent_client = boto3_session.client('bedrock-agent', region_name=region_name)"
   ]
  },
  {
   "cell_type": "markdown",
   "metadata": {},
   "source": [
    "# Amazon Bedrock Knowledge Base (KB)\n",
    "\n",
    "Knowledge bases for Amazon Bedrock allows you to integrate proprietary information into your generative-AI applications. Using the Retrieval Augment Generation (RAG) technique, a knowledge base searches your data to find the most useful information and then uses it to answer natural language questions. \n",
    "\n",
    "A knowledge base can be used not only to answer user queries, and analyze documents, but also to augment prompts provided to foundation models by providing context to the prompt. When answering user queries, the knowledge base retains conversation context. The knowledge base also grounds answers in citations so that users can find further information by looking up the exact text that a response is based on and also check that the response makes sense and is factually correct."
   ]
  },
  {
   "cell_type": "markdown",
   "metadata": {},
   "source": [
    "## Create Policies and OpenSearch serverless collection\n",
    "\n",
    "The next code cell imports the necessary Python libraries and defines a function `create_opensearch_collection` that creates an OpenSearch Serverless Collection. This function takes two arguments: `collection_name` (the desired name for the collection) and `open_search_access_role` (the ARN of the IAM role that should have access to the collection). It performs the following steps:\n",
    "\n",
    "1. Initializes the Boto3 client for OpenSearch Serverless.\n",
    "2. Defines the network security policy and encryption security policy for the collection.\n",
    "3. Creates the network security policy and encryption security policy using the OpenSearch Serverless client.\n",
    "4. If an `open_search_access_role` is provided, it creates a data access policy that grants the specified role permissions to perform various operations on the collection and its indices.\n",
    "5. Creates the OpenSearch Serverless Collection with the specified name and type `VECTORSEARCH`.\n",
    "6. Returns the names of the created security policies and the collection response."
   ]
  },
  {
   "cell_type": "code",
   "execution_count": null,
   "metadata": {},
   "outputs": [],
   "source": [
    "def create_opensearch_collection(collection_name, open_search_access_role):\n",
    "    # Initialize boto3 clients\n",
    "    opensearch_client = boto3.client('opensearchserverless')\n",
    "\n",
    "    # Define network security policy\n",
    "    network_security_policy = json.dumps(\n",
    "        [\n",
    "            {\n",
    "                \"Rules\": [\n",
    "                {\n",
    "                    \"Resource\": [\n",
    "                    f\"collection/{collection_name}\"\n",
    "                    ],\n",
    "                    \"ResourceType\": \"dashboard\"\n",
    "                },\n",
    "                {\n",
    "                    \"Resource\": [\n",
    "                    f\"collection/{collection_name}\"\n",
    "                    ],\n",
    "                    \"ResourceType\": \"collection\"\n",
    "                }\n",
    "                ],\n",
    "                \"AllowFromPublic\": True\n",
    "            }\n",
    "            ]\n",
    "    )\n",
    "\n",
    "    \n",
    "    encryption_security_policy = json.dumps(\n",
    "        {\n",
    "            \"Rules\": [\n",
    "                {\n",
    "                    \"Resource\": [\n",
    "                        f\"collection/{collection_name}\"\n",
    "                    ],\n",
    "                    \"ResourceType\": \"collection\",\n",
    "                }\n",
    "            ],\n",
    "            \"AWSOwnedKey\": True\n",
    "        },\n",
    "        indent=2\n",
    "    )\n",
    "\n",
    "    # Create network security policy\n",
    "    net_policy_response = opensearch_client.create_security_policy(\n",
    "        name=f\"{collection_name}-network-policy\",\n",
    "        policy=network_security_policy,\n",
    "        type='network'\n",
    "    )\n",
    "    network_policy_name = net_policy_response[\"securityPolicyDetail\"][\"name\"]\n",
    "\n",
    "\n",
    "    # Create encryption security policy\n",
    "    enc_policy_response = opensearch_client.create_security_policy(\n",
    "        name=f\"{collection_name}-security-policy\",\n",
    "        policy=encryption_security_policy,\n",
    "        type='encryption'\n",
    "    )\n",
    "    encryption_policy_name = enc_policy_response[\"securityPolicyDetail\"][\"name\"]\n",
    "    \n",
    "    # Create data access policy if the access role is provided\n",
    "    data_access_policy_name = \"\"\n",
    "\n",
    "    if open_search_access_role:\n",
    "        data_access_policy = json.dumps(\n",
    "            [\n",
    "                {\n",
    "                    \"Rules\": [\n",
    "                    {\n",
    "                        \"Resource\": [\n",
    "                        f\"collection/{collection_name}\"\n",
    "                        ],\n",
    "                        \"Permission\": [\n",
    "                        \"aoss:CreateCollectionItems\",\n",
    "                        \"aoss:DeleteCollectionItems\",\n",
    "                        \"aoss:UpdateCollectionItems\",\n",
    "                        \"aoss:DescribeCollectionItems\"\n",
    "                        ],\n",
    "                        \"ResourceType\": \"collection\"\n",
    "                    },\n",
    "                    {\n",
    "                        \"Resource\": [\n",
    "                        f\"index/{collection_name}/*\"\n",
    "                        ],\n",
    "                        \"Permission\": [\n",
    "                        \"aoss:CreateIndex\",\n",
    "                        \"aoss:DeleteIndex\",\n",
    "                        \"aoss:UpdateIndex\",\n",
    "                        \"aoss:DescribeIndex\",\n",
    "                        \"aoss:ReadDocument\",\n",
    "                        \"aoss:WriteDocument\"\n",
    "                        ],\n",
    "                        \"ResourceType\": \"index\"\n",
    "                    }\n",
    "                    ],\n",
    "                    \"Principal\": [open_search_access_role],\n",
    "                    \"Description\": \"data-access-rule\"\n",
    "                }\n",
    "            ]\n",
    "        )\n",
    "\n",
    "\n",
    "        data_access_policy_name = f\"{collection_name}-access\"\n",
    "        if len(data_access_policy_name) > 32:\n",
    "            raise ValueError('Policy name exceeds maximum length of 32 characters')\n",
    "\n",
    "        cfn_access_policy_response = opensearch_client.create_access_policy(\n",
    "            name=data_access_policy_name,\n",
    "            description='Policy for data access',\n",
    "            policy=data_access_policy,\n",
    "            type='data',\n",
    "        )\n",
    "\n",
    "\n",
    "    # Create OpenSearch collection\n",
    "    collection_response = opensearch_client.create_collection(\n",
    "        name=collection_name,\n",
    "        type='VECTORSEARCH'\n",
    "    )\n",
    "\n",
    "    return encryption_policy_name, network_policy_name, data_access_policy_name, collection_response\n",
    "\n"
   ]
  },
  {
   "cell_type": "markdown",
   "metadata": {},
   "source": [
    "In this code cell, we first retrieve identity of logged in user/role and then invoke create_opensearch_collection function created in the previous cell to create open search collection.\n",
    "The function returns the names of the created security policies and the collection response, which is printed at the end of the cell."
   ]
  },
  {
   "cell_type": "code",
   "execution_count": null,
   "metadata": {},
   "outputs": [],
   "source": [
    "# Get the caller identity ARN\n",
    "sts_client = boto3.client('sts')\n",
    "caller_identity = sts_client.get_caller_identity()\n",
    "identity_arn = caller_identity['Arn']\n",
    "\n",
    "#create the collection\n",
    "collection_name = 'faq-collection'\n",
    "encryption_policy_name, network_policy_name, data_access_policy_name, collection_response = create_opensearch_collection(collection_name, identity_arn)\n",
    "\n",
    "print(collection_response)"
   ]
  },
  {
   "cell_type": "markdown",
   "metadata": {},
   "source": [
    "This code cell extracts the collection ID and region from the collection response obtained in the previous cell. It then constructs the OpenSearch Serverless endpoint URL (`os_host`) using the collection ID, region, and the domain suffix `.aoss.amazonaws.com`. Finally, it prints the `os_host` value, which can be used to connect to the OpenSearch Serverless cluster and perform various operations."
   ]
  },
  {
   "cell_type": "code",
   "execution_count": null,
   "metadata": {},
   "outputs": [],
   "source": [
    "collection_id = collection_response['createCollectionDetail']['id']\n",
    "\n",
    "collection_arn = collection_response['createCollectionDetail']['arn']\n",
    "\n",
    "region = collection_response['createCollectionDetail']['arn'].split(\":\")[3]\n",
    "\n",
    "os_host = \".\".join([collection_id, region, \"aoss.amazonaws.com\"])\n",
    "\n",
    "print(os_host)"
   ]
  },
  {
   "cell_type": "markdown",
   "metadata": {},
   "source": [
    "## Create vector Index"
   ]
  },
  {
   "cell_type": "markdown",
   "metadata": {},
   "source": [
    "### Bedrock execution role (and associated policies) for KB creation\n",
    "\n",
    "we need to create a specific role for the KB creation and attach associated policies to allow access to foundation models and S3 bucket"
   ]
  },
  {
   "cell_type": "code",
   "execution_count": null,
   "metadata": {},
   "outputs": [],
   "source": [
    "iam_client = boto3_session.client('iam')\n",
    "\n",
    "kb_suffix = \"FAQ_WS_\" + str(random.randint(0,1000))\n",
    "\n",
    "account_number = boto3.client('sts').get_caller_identity().get('Account')\n",
    "\n",
    "bedrock_execution_role_name = f'AmazonBedrockExecutionRoleForKnowledgeBase_{kb_suffix}'\n",
    "s3_policy_name = f'AmazonBedrockS3PolicyForKnowledgeBase_{kb_suffix}'\n",
    "fm_policy_name = f'AmazonBedrockFoundationModelPolicyForKnowledgeBase_{kb_suffix}'\n",
    "AOSSAccessPolicy_name = f'AmazonBedrockAossPolicyForKnowledgeBase_{kb_suffix}'\n",
    "\n",
    "embedding_model_id = \"cohere.embed-english-v3\"\n",
    "\n",
    "def create_bedrock_execution_role(bucket_name):\n",
    "    foundation_model_policy_document = {\n",
    "        \"Version\": \"2012-10-17\",\n",
    "        \"Statement\": [\n",
    "            {\n",
    "                \"Effect\": \"Allow\",\n",
    "                \"Action\": [\n",
    "                    \"bedrock:InvokeModel\",\n",
    "                ],\n",
    "                \"Resource\": [\n",
    "                    f\"arn:aws:bedrock:{region_name}::foundation-model/{embedding_model_id}\"\n",
    "                ]\n",
    "            }\n",
    "        ]\n",
    "    }\n",
    "\n",
    "    s3_policy_document = {\n",
    "        \"Version\": \"2012-10-17\",\n",
    "        \"Statement\": [\n",
    "            {\n",
    "                \"Effect\": \"Allow\",\n",
    "                \"Action\": [\n",
    "                    \"s3:GetObject\",\n",
    "                    \"s3:ListBucket\"\n",
    "                ],\n",
    "                \"Resource\": [\n",
    "                    f\"arn:aws:s3:::{bucket_name}\",\n",
    "                    f\"arn:aws:s3:::{bucket_name}/*\"\n",
    "                ],\n",
    "                \"Condition\": {\n",
    "                    \"StringEquals\": {\n",
    "                        \"aws:ResourceAccount\": f\"{account_number}\"\n",
    "                    }\n",
    "                }\n",
    "            }\n",
    "        ]\n",
    "    }\n",
    "\n",
    "    assume_role_policy_document = {\n",
    "        \"Version\": \"2012-10-17\",\n",
    "        \"Statement\": [\n",
    "            {\n",
    "                \"Effect\": \"Allow\",\n",
    "                \"Principal\": {\n",
    "                    \"Service\": \"bedrock.amazonaws.com\"\n",
    "                },\n",
    "                \"Action\": \"sts:AssumeRole\"\n",
    "            }\n",
    "        ]\n",
    "    }\n",
    "    # create policies based on the policy documents\n",
    "    fm_policy = iam_client.create_policy(\n",
    "        PolicyName=fm_policy_name,\n",
    "        PolicyDocument=json.dumps(foundation_model_policy_document),\n",
    "        Description='Policy for accessing foundation model',\n",
    "    )\n",
    "\n",
    "    s3_policy = iam_client.create_policy(\n",
    "        PolicyName=s3_policy_name,\n",
    "        PolicyDocument=json.dumps(s3_policy_document),\n",
    "        Description='Policy for reading documents from s3')\n",
    "    \n",
    "\n",
    "    # Define the policy document\n",
    "    policy_document = {\n",
    "        \"Version\": \"2012-10-17\",\n",
    "        \"Statement\": [\n",
    "            {\n",
    "                \"Effect\": \"Allow\",\n",
    "                \"Action\": \"aoss:*\",\n",
    "                \"Resource\": \"*\"\n",
    "            }\n",
    "        ]\n",
    "    }\n",
    "\n",
    "    # Create the IAM policy to access aoss\n",
    "    aossAccessPolicy = iam_client.create_policy(\n",
    "        PolicyName=AOSSAccessPolicy_name,\n",
    "        PolicyDocument=json.dumps(policy_document)\n",
    "    )\n",
    "\n",
    "\n",
    "    # create bedrock execution role\n",
    "    bedrock_kb_execution_role = iam_client.create_role(\n",
    "        RoleName=bedrock_execution_role_name,\n",
    "        AssumeRolePolicyDocument=json.dumps(assume_role_policy_document),\n",
    "        Description='Amazon Bedrock Knowledge Base Execution Role for accessing OSS and S3',\n",
    "        MaxSessionDuration=3600\n",
    "    )\n",
    "\n",
    "    # fetch arn of the policies and role created above\n",
    "    bedrock_kb_execution_role_arn = bedrock_kb_execution_role['Role']['Arn']\n",
    "    s3_policy_arn = s3_policy[\"Policy\"][\"Arn\"]\n",
    "    fm_policy_arn = fm_policy[\"Policy\"][\"Arn\"]\n",
    "    aossAccessPolicy_arn = aossAccessPolicy[\"Policy\"][\"Arn\"]\n",
    "\n",
    "    # attach policies to Amazon Bedrock execution role\n",
    "    iam_client.attach_role_policy(\n",
    "        RoleName=bedrock_kb_execution_role[\"Role\"][\"RoleName\"],\n",
    "        PolicyArn=fm_policy_arn\n",
    "    )\n",
    "    iam_client.attach_role_policy(\n",
    "        RoleName=bedrock_kb_execution_role[\"Role\"][\"RoleName\"],\n",
    "        PolicyArn=s3_policy_arn\n",
    "    )\n",
    "    iam_client.attach_role_policy(\n",
    "        RoleName=bedrock_kb_execution_role[\"Role\"][\"RoleName\"],\n",
    "        PolicyArn=aossAccessPolicy_arn\n",
    "    )\n",
    "    sm_policy_arn = 'arn:aws:iam::aws:policy/SecretsManagerReadWrite'\n",
    "    iam_client.attach_role_policy(\n",
    "        RoleName=bedrock_kb_execution_role[\"Role\"][\"RoleName\"],\n",
    "        PolicyArn=sm_policy_arn\n",
    "    )\n",
    "    return bedrock_kb_execution_role"
   ]
  },
  {
   "cell_type": "code",
   "execution_count": null,
   "metadata": {},
   "outputs": [],
   "source": [
    "kb_role_response = create_bedrock_execution_role(bucket_name)\n",
    "kb_role_arn = kb_role_response['Role']['Arn']"
   ]
  },
  {
   "cell_type": "code",
   "execution_count": null,
   "metadata": {},
   "outputs": [],
   "source": [
    "kb_role_name = kb_role_response['Role'][\"RoleName\"]\n",
    "kb_role_name"
   ]
  },
  {
   "cell_type": "markdown",
   "metadata": {},
   "source": [
    "### Adding the newly created KB role to the data access policy for our openSearch collection"
   ]
  },
  {
   "cell_type": "code",
   "execution_count": null,
   "metadata": {},
   "outputs": [],
   "source": [
    "# Create an OpenSearch Serverless client\n",
    "opss_client = boto3.client('opensearchserverless')\n",
    "\n",
    "# Retrieve the existing data access policy\n",
    "try:\n",
    "    response = opss_client.get_access_policy(\n",
    "        name=data_access_policy_name,\n",
    "        type='data'\n",
    "    )\n",
    "    existing_policy = response['accessPolicyDetail']['policy']\n",
    "    policy_version = response['accessPolicyDetail']['policyVersion']\n",
    "except opss_client.exceptions.ResourceNotFoundException:\n",
    "    print(f\"Data access policy for collection '{collection_name}' not found.\")\n",
    "    existing_policy = []\n",
    "    policy_version = None\n",
    "\n",
    "# Add the IAM role ARN as a principal in the first rule\n",
    "if existing_policy:\n",
    "    existing_policy[0]['Principal'].append(kb_role_arn)\n",
    "else:\n",
    "    existing_policy = [{\n",
    "        'Principal': [kb_role_arn],\n",
    "        'Rules': [],\n",
    "        'Description': 'Data access policy'\n",
    "    }]\n",
    "\n",
    "# Update the data access policy\n",
    "try:\n",
    "    response = opss_client.update_access_policy(\n",
    "        name=data_access_policy_name,\n",
    "        type='data',\n",
    "        policy=json.dumps(existing_policy),\n",
    "        policyVersion=policy_version\n",
    "    )\n",
    "    print(f\"Successfully updated data access policy for collection '{collection_name}'.\")\n",
    "except Exception as e:\n",
    "    print(f\"Error updating data access policy: {e}\")"
   ]
  },
  {
   "cell_type": "markdown",
   "metadata": {},
   "source": [
    "## Create semantic search engine with Amazon OpenSearch Service Serverless"
   ]
  },
  {
   "cell_type": "markdown",
   "metadata": {},
   "source": [
    "### Opensearch data access policy update\n",
    "\n",
    "To access our opensearch serverless collection, we need to update its data policy update with the current user"
   ]
  },
  {
   "cell_type": "markdown",
   "metadata": {},
   "source": [
    "The code cell sets up an AWS OpenSearch Serverless client by assigning the service name, obtaining AWS credentials, creating an authentication object, and then using the connect_to_aoss function to create the client with the authentication object and the OpenSearch host."
   ]
  },
  {
   "cell_type": "code",
   "execution_count": null,
   "metadata": {},
   "outputs": [],
   "source": [
    "from opensearchpy import (\n",
    "    OpenSearch,\n",
    "    RequestsHttpConnection,\n",
    "    AWSV4SignerAuth\n",
    ")\n",
    "\n",
    "#connect to opensearch serverless\n",
    "#auth : AWSV4SignerAuth\n",
    "#host: <opensearchid>.us-east-1.aoss.amazonaws.com\n",
    "def connect_to_aoss(auth, host):\n",
    "    try:\n",
    "        # create an opensearch client and use the request-signer\n",
    "        aoss_client = OpenSearch(\n",
    "            hosts=[{'host': host, 'port': 443}],\n",
    "            http_auth=auth,\n",
    "            use_ssl=True,\n",
    "            verify_certs=True,\n",
    "            connection_class=RequestsHttpConnection,\n",
    "            pool_maxsize=20,\n",
    "        )\n",
    "        return aoss_client\n",
    "    except Exception as e:\n",
    "        print(e)\n",
    "        return None \n",
    "    \n",
    "#opensearch serverless service, aka aoss\n",
    "service = 'aoss'\n",
    "\n",
    "#get an Auth object to call aoss\n",
    "credentials = boto3.Session().get_credentials()\n",
    "auth = AWSV4SignerAuth(credentials, region_name, service)\n",
    "\n",
    "#LLMUtils.connect_to_aoss() can be found in lib/src/utils/ folder.\n",
    "aoss_client = connect_to_aoss(auth, os_host)\n"
   ]
  },
  {
   "cell_type": "markdown",
   "metadata": {},
   "source": [
    "### Create OpenSearch index\n",
    "\n",
    "In the next few cells, we define the index name, data columns to be included, and the index configuration. We then create the index if it doesn't already exist\n"
   ]
  },
  {
   "cell_type": "markdown",
   "metadata": {},
   "source": [
    "In the following code cell, an OpenSearch index named \"movies-index\" is defined. The code also specifies a list of data columns that will be added to this index, including information about movies such as their TMDB ID, original language, title, description, genres, release year, keywords, director, actors, popularity score, popularity score bins, average vote rating, and average vote rating bins."
   ]
  },
  {
   "cell_type": "code",
   "execution_count": null,
   "metadata": {},
   "outputs": [],
   "source": [
    "#index configuration. note that we're adding both text metadata as well as the vector_index property that will be storing our embedding for each title.\n",
    "# For additional information on the K-NN index configuration, please read the below documentation.\n",
    "#https://opensearch.org/docs/latest/field-types/supported-field-types/knn-vector/\n",
    "#https://opensearch.org/docs/latest/search-plugins/knn/knn-index/\n",
    "\n",
    "#opensearch index name\n",
    "index_name = \"faq-vector-index\"\n",
    "\n",
    "index_body = {\n",
    "  \"settings\": {\n",
    "    \"index\": {\n",
    "      'number_of_shards': 1,\n",
    "      \"number_of_replicas\": 0,\n",
    "      \"knn\": True,\n",
    "      \"knn.algo_param.ef_search\": 512\n",
    "    }\n",
    "  },\n",
    "  \"mappings\": {\n",
    "    \"properties\": {\n",
    "      \"text\": {\"type\": \"text\"},\n",
    "      \"text-metadata\": {\"type\": \"text\"},\n",
    "      \"vector_index\": {\n",
    "        \"type\": \"knn_vector\",\n",
    "        \"dimension\": 1024, #if you use cohere: dimension of the embedding is 1024, for titan: 1536\n",
    "        \"method\": {\n",
    "          \"name\": \"hnsw\",\n",
    "          \"space_type\": \"l2\",\n",
    "          \"engine\": \"faiss\",\n",
    "          \"parameters\": {\n",
    "            \"ef_construction\": 512,\n",
    "            \"m\": 16\n",
    "          }\n",
    "        }\n",
    "      }\n",
    "    }\n",
    "  }\n",
    "}"
   ]
  },
  {
   "cell_type": "markdown",
   "metadata": {},
   "source": [
    "This section of the code checks if the specified index already exists in OpenSearch. If the index does not exist, it creates a new index with the provided index body. "
   ]
  },
  {
   "cell_type": "code",
   "execution_count": null,
   "metadata": {},
   "outputs": [],
   "source": [
    "#get a list of the indexes already existing\n",
    "indexes = aoss_client.indices.get_alias(\"*\")\n",
    "indexes_list = list(indexes.keys())\n",
    "\n",
    "#check if index doesn't already exist and create it\n",
    "if index_name not in indexes_list:\n",
    "    print('Creating index:\\n')\n",
    "    create_response = aoss_client.indices.create(index_name, body=index_body)\n",
    "    print(create_response)\n",
    "else:\n",
    "    print(\"index already exists\")"
   ]
  },
  {
   "cell_type": "markdown",
   "metadata": {},
   "source": [
    "Here, we display information about the newly created index"
   ]
  },
  {
   "cell_type": "markdown",
   "metadata": {},
   "source": [
    "The code cell retrieves and displays details about a previously created OpenSearch index, including its mapping (fields and data types), settings (configuration options like shards and replicas), and any associated aliases"
   ]
  },
  {
   "cell_type": "code",
   "execution_count": null,
   "metadata": {},
   "outputs": [],
   "source": [
    "#display information on the index you just created\n",
    "\n",
    "# Get index mapping\n",
    "response = aoss_client.indices.get_mapping(index=index_name)\n",
    "pp.pprint(response) \n",
    "\n",
    "# Get index settings\n",
    "response = aoss_client.indices.get_settings(index=index_name)\n",
    "pp.pprint(response)\n",
    "\n",
    "# Get index aliases\n",
    "response = aoss_client.indices.get_alias(index=index_name) \n",
    "pp.pprint(response)"
   ]
  },
  {
   "cell_type": "markdown",
   "metadata": {},
   "source": [
    "## Create Amazon Bedrock Knowledge Base\n",
    "\n",
    "Code reuse from following git repo:\n",
    "https://github.com/aws-samples/amazon-bedrock-workshop/blob/main/02_KnowledgeBases_and_RAG/0_create_ingest_documents_test_kb.ipynb"
   ]
  },
  {
   "cell_type": "markdown",
   "metadata": {},
   "source": [
    "### Create the actual KB finally"
   ]
  },
  {
   "cell_type": "code",
   "execution_count": null,
   "metadata": {},
   "outputs": [],
   "source": [
    "opensearchServerlessConfiguration = {\n",
    "            \"collectionArn\": collection_arn,\n",
    "            \"vectorIndexName\": index_name,\n",
    "            \"fieldMapping\": {\n",
    "                \"vectorField\": \"vector_index\",\n",
    "                \"textField\": \"text\",\n",
    "                \"metadataField\": \"text-metadata\"\n",
    "            }\n",
    "        }\n",
    "\n",
    "# Ingest strategy - How to ingest data from the data source\n",
    "chunkingStrategyConfiguration = {\n",
    "    \"chunkingStrategy\": \"FIXED_SIZE\",\n",
    "    \"fixedSizeChunkingConfiguration\": {\n",
    "        \"maxTokens\": 512,\n",
    "        \"overlapPercentage\": 20\n",
    "    }\n",
    "}\n",
    "\n",
    "# The data source to ingest documents from, into the OpenSearch serverless knowledge base index\n",
    "s3Configuration = {\n",
    "    \"bucketArn\": f\"arn:aws:s3:::{bucket_name}\",\n",
    "    # \"inclusionPrefixes\":[\"*.*\"] # you can use this if you want to create a KB using data within s3 prefixes.\n",
    "}\n",
    "\n",
    "# The embedding model used by Bedrock to embed ingested documents, and realtime prompts\n",
    "embeddingModelArn = f\"arn:aws:bedrock:{region_name}::foundation-model/{embedding_model_id}\"\n",
    "\n",
    "kb_name = f\"evaluation-ws-knowledge-base-{kb_suffix}\"\n",
    "kb_description = \"FAQ KB\""
   ]
  },
  {
   "cell_type": "code",
   "execution_count": null,
   "metadata": {},
   "outputs": [],
   "source": [
    "create_kb_response = bedrock_agent_client.create_knowledge_base(\n",
    "    name = kb_name,\n",
    "    description = kb_description,\n",
    "    roleArn = kb_role_arn,\n",
    "    knowledgeBaseConfiguration = {\n",
    "        \"type\": \"VECTOR\",\n",
    "        \"vectorKnowledgeBaseConfiguration\": {\n",
    "            \"embeddingModelArn\": embeddingModelArn\n",
    "        }\n",
    "    },\n",
    "    storageConfiguration = {\n",
    "        \"type\": \"OPENSEARCH_SERVERLESS\",\n",
    "        \"opensearchServerlessConfiguration\":opensearchServerlessConfiguration\n",
    "    }\n",
    ")"
   ]
  },
  {
   "cell_type": "code",
   "execution_count": null,
   "metadata": {},
   "outputs": [],
   "source": [
    "kb_id = create_kb_response[\"knowledgeBase\"][\"knowledgeBaseId\"]"
   ]
  },
  {
   "cell_type": "code",
   "execution_count": null,
   "metadata": {},
   "outputs": [],
   "source": [
    "# Check KnowledgeBase \n",
    "bedrock_agent_client.get_knowledge_base(knowledgeBaseId = kb_id)"
   ]
  },
  {
   "cell_type": "code",
   "execution_count": null,
   "metadata": {},
   "outputs": [],
   "source": [
    "# Create a DataSource in KnowledgeBase \n",
    "create_ds_response = bedrock_agent_client.create_data_source(\n",
    "    name = kb_name,\n",
    "    description = kb_description,\n",
    "    knowledgeBaseId = kb_id,\n",
    "    dataSourceConfiguration = {\n",
    "        \"type\": \"S3\",\n",
    "        \"s3Configuration\":s3Configuration\n",
    "    },\n",
    "    vectorIngestionConfiguration = {\n",
    "        \"chunkingConfiguration\": chunkingStrategyConfiguration\n",
    "    }\n",
    ")\n",
    "kb_ds = create_ds_response[\"dataSource\"]\n",
    "\n",
    "kb_ds_id = kb_ds[\"dataSourceId\"]\n",
    "\n",
    "pp.pprint(kb_ds)"
   ]
  },
  {
   "cell_type": "code",
   "execution_count": null,
   "metadata": {},
   "outputs": [],
   "source": [
    "# Get DataSource \n",
    "bedrock_agent_client.get_data_source(knowledgeBaseId = kb_id, dataSourceId = kb_ds_id)"
   ]
  },
  {
   "cell_type": "markdown",
   "metadata": {},
   "source": [
    "## Ingestion Job\n",
    "During the ingestion job, Bedrock KB will fetch the documents in the data source, pre-process it to extract text, chunk it based on the chunking size provided, create embeddings of each chunk and then write it to the AOSS vector database"
   ]
  },
  {
   "cell_type": "code",
   "execution_count": null,
   "metadata": {},
   "outputs": [],
   "source": [
    "# Start an ingestion job\n",
    "start_job_response = bedrock_agent_client.start_ingestion_job(knowledgeBaseId = kb_id, dataSourceId = kb_ds_id)"
   ]
  },
  {
   "cell_type": "code",
   "execution_count": null,
   "metadata": {},
   "outputs": [],
   "source": [
    "job = start_job_response[\"ingestionJob\"]\n",
    "pp.pprint(job)"
   ]
  },
  {
   "cell_type": "code",
   "execution_count": null,
   "metadata": {},
   "outputs": [],
   "source": [
    "import time\n",
    "\n",
    "# Get job \n",
    "while(job['status']!='COMPLETE' ):\n",
    "    get_job_response = bedrock_agent_client.get_ingestion_job(\n",
    "      knowledgeBaseId = kb_id,\n",
    "        dataSourceId = kb_ds_id,\n",
    "        ingestionJobId = job[\"ingestionJobId\"]\n",
    "  )\n",
    "    job = get_job_response[\"ingestionJob\"]\n",
    "    \n",
    "    time.sleep(30)\n",
    "\n",
    "pp.pprint(job)"
   ]
  },
  {
   "cell_type": "markdown",
   "metadata": {},
   "source": [
    "Retrieve API Test Call"
   ]
  },
  {
   "cell_type": "code",
   "execution_count": null,
   "metadata": {},
   "outputs": [],
   "source": [
    "bedrock_agent_runtime_client = boto3.client(\"bedrock-agent-runtime\", region_name=region_name)\n",
    "\n",
    "query = \"I cannot login to my account\"\n",
    "\n",
    "# retrieve api for fetching only the relevant context.\n",
    "relevant_documents = bedrock_agent_runtime_client.retrieve(\n",
    "    retrievalQuery= {\n",
    "        'text': query\n",
    "    },\n",
    "    knowledgeBaseId=kb_id,\n",
    "    retrievalConfiguration= {\n",
    "        'vectorSearchConfiguration': {\n",
    "            'numberOfResults': 3 # will fetch top 3 documents which matches closely with the query.\n",
    "        }\n",
    "    }\n",
    ")"
   ]
  },
  {
   "cell_type": "code",
   "execution_count": null,
   "metadata": {},
   "outputs": [],
   "source": [
    "relevant_documents['retrievalResults'][0]"
   ]
  },
  {
   "cell_type": "code",
   "execution_count": null,
   "metadata": {},
   "outputs": [],
   "source": [
    "for document in relevant_documents['retrievalResults']:\n",
    "    document['content']['text']\n",
    "    print(f\"text:{document['content']['text']}\")\n",
    "    print(f\"source:{document['location']['s3Location']['uri'].split('/')[-1]}\")\n",
    "    print(f\"score:{document['score']}\")\n",
    "    print('-----------------')"
   ]
  },
  {
   "cell_type": "markdown",
   "metadata": {},
   "source": [
    "Retrieve and Generate KB API Test Call. Feel free to use different models to test the output."
   ]
  },
  {
   "cell_type": "code",
   "execution_count": null,
   "metadata": {},
   "outputs": [],
   "source": [
    "session = boto3.Session()\n",
    "bedrock = session.client(service_name='bedrock')\n",
    "list_FMs = bedrock.list_foundation_models(byProvider='Anthropic')\n",
    "list_FMs[\"modelSummaries\"]"
   ]
  },
  {
   "cell_type": "code",
   "execution_count": null,
   "metadata": {},
   "outputs": [],
   "source": [
    "model_arn = \"arn:aws:bedrock:us-east-1::foundation-model/anthropic.claude-3-sonnet-20240229-v1:0\"\n",
    "#model_arn = \"arn:aws:bedrock:us-east-1::foundation-model/anthropic.claude-3-haiku-20240307-v1:0\"\n",
    "\n",
    "retrieve_and_generate_response = bedrock_agent_runtime_client.retrieve_and_generate(\n",
    "    input={\n",
    "        'text': query\n",
    "    },\n",
    "    retrieveAndGenerateConfiguration={\n",
    "        'type': 'KNOWLEDGE_BASE',\n",
    "        'knowledgeBaseConfiguration': {\n",
    "            'knowledgeBaseId': kb_id,\n",
    "            'modelArn': model_arn\n",
    "        }\n",
    "    },\n",
    ")"
   ]
  },
  {
   "cell_type": "code",
   "execution_count": null,
   "metadata": {},
   "outputs": [],
   "source": [
    "print(retrieve_and_generate_response['citations'][0]['generatedResponsePart']['textResponsePart']['text'])"
   ]
  },
  {
   "cell_type": "code",
   "execution_count": null,
   "metadata": {},
   "outputs": [],
   "source": [
    "%store kb_id\n",
    "%store collection_id\n",
    "%store collection_name\n",
    "%store encryption_policy_name\n",
    "%store network_policy_name\n",
    "%store data_access_policy_name\n",
    "%store os_host\n",
    "%store index_name\n",
    "%store identity_arn\n",
    "%store kb_role_arn\n",
    "%store kb_role_name"
   ]
  },
  {
   "cell_type": "code",
   "execution_count": null,
   "metadata": {},
   "outputs": [],
   "source": []
  }
 ],
 "metadata": {
  "kernelspec": {
   "display_name": "local_dev2",
   "language": "python",
   "name": "python3"
  },
  "language_info": {
   "codemirror_mode": {
    "name": "ipython",
    "version": 3
   },
   "file_extension": ".py",
   "mimetype": "text/x-python",
   "name": "python",
   "nbconvert_exporter": "python",
   "pygments_lexer": "ipython3",
   "version": "3.12.4"
  }
 },
 "nbformat": 4,
 "nbformat_minor": 2
}
