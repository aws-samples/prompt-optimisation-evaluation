{
  "cells": [
    {
      "cell_type": "code",
      "execution_count": null,
      "metadata": {},
      "outputs": [],
      "source": [
        "#Copyright Amazon.com, Inc. or its affiliates. All Rights Reserved.\n",
        "#SPDX-License-Identifier: MIT-0"
      ]
    },
    {
      "cell_type": "code",
      "execution_count": null,
      "metadata": {},
      "outputs": [],
      "source": [
        "!pip install -q boto3==1.34.149"
      ]
    },
    {
      "cell_type": "markdown",
      "metadata": {},
      "source": [
        "# [Optional] Clean up\n",
        "Execute the below cells if you want to delete your OpenSearch collection and associated encryption, networking and data access policies\n"
      ]
    },
    {
      "cell_type": "markdown",
      "metadata": {},
      "source": [
        "In the following code cell, previously saved variables (`collection_id`, `encryption_policy_name`, and `network_policy_name`) are being loaded from the notebook's storage using the `%store -r` magic command in Jupyter Notebook. These variables were likely defined and stored in earlier code cells or notebooks, and are now being retrieved for use in subsequent computations or operations within this notebook."
      ]
    },
    {
      "cell_type": "code",
      "execution_count": null,
      "metadata": {},
      "outputs": [],
      "source": [
        "#loading saved variables from previous notebooks\n",
        "%store -r collection_id\n",
        "%store -r encryption_policy_name\n",
        "%store -r network_policy_name\n",
        "%store -r data_access_policy_name\n",
        "%store -r identity_arn\n",
        "%store -r kb_id\n",
        "%store -r kb_role_name"
      ]
    },
    {
      "cell_type": "markdown",
      "metadata": {},
      "source": [
        "Or set those manually if you need."
      ]
    },
    {
      "cell_type": "code",
      "execution_count": null,
      "metadata": {},
      "outputs": [],
      "source": [
        "#You can also manually set them if needed\n",
        "\n",
        "#collection_id = \"\"\n",
        "#encryption_policy_name = \"\"\n",
        "#network_policy_name = \"\"\n",
        "#data_access_policy_name = \"\"\n",
        "#identity_arn = \"\"\n",
        "#kb_role_name = \"\"\n",
        "#kb_id = \"\""
      ]
    },
    {
      "cell_type": "markdown",
      "metadata": {},
      "source": [
        "## Delete Amazon Bedrock KB related objects"
      ]
    },
    {
      "cell_type": "code",
      "execution_count": null,
      "metadata": {},
      "outputs": [],
      "source": [
        "# Create a Boto3 client for Amazon Bedrock\n",
        "bedrock_client = boto3.client('bedrock-agent')\n",
        "\n",
        "try:\n",
        "\n",
        "    # Delete the knowledge base\n",
        "    bedrock_client.delete_knowledge_base(\n",
        "        knowledgeBaseId=kb_id\n",
        "    )\n",
        "    print(f\"Knowledge base {kb_id} deleted successfully\")\n",
        "\n",
        "except bedrock_client.exceptions.ResourceNotFoundException:\n",
        "    print(f\"Knowledge base {kb_id} not found\")\n",
        "except Exception as e:\n",
        "    print(f\"Error deleting knowledge base: {e}\")\n"
      ]
    },
    {
      "cell_type": "markdown",
      "metadata": {},
      "source": [
        "### Delete the underlying kb aim role"
      ]
    },
    {
      "cell_type": "code",
      "execution_count": null,
      "metadata": {},
      "outputs": [],
      "source": [
        "iam_client = boto3.client(\"iam\")\n",
        "\n",
        "try:\n",
        "    # List attached policies\n",
        "    attached_policies = iam_client.list_attached_role_policies(\n",
        "        RoleName=kb_role_name\n",
        "    )[\"AttachedPolicies\"]\n",
        "\n",
        "    # Detach policies\n",
        "    for policy in attached_policies:\n",
        "        iam_client.detach_role_policy(\n",
        "            RoleName=kb_role_name,\n",
        "            PolicyArn=policy[\"PolicyArn\"]\n",
        "        )\n",
        "        print(f\"Detached policy {policy['PolicyArn']} from role {kb_role_name}\")\n",
        "\n",
        "    # List inline policies\n",
        "    inline_policies = iam_client.list_role_policies(\n",
        "        RoleName=kb_role_name\n",
        "    )[\"PolicyNames\"]\n",
        "\n",
        "    # Delete inline policies\n",
        "    for policy_name in inline_policies:\n",
        "        iam_client.delete_role_policy(\n",
        "            RoleName=kb_role_name,\n",
        "            PolicyName=policy_name\n",
        "        )\n",
        "        print(f\"Deleted inline policy {policy_name} from role {kb_role_name}\")\n",
        "\n",
        "    # Delete the role\n",
        "    iam_client.delete_role(RoleName=kb_role_name)\n",
        "    print(f\"Deleted role {kb_role_name}\")\n",
        "\n",
        "except iam_client.exceptions.NoSuchEntityException:\n",
        "    print(f\"Role {kb_role_name} does not exist\")\n",
        "except Exception as e:\n",
        "    print(f\"Error deleting role: {e}\")\n"
      ]
    },
    {
      "cell_type": "markdown",
      "metadata": {},
      "source": [
        "In the following code cell, an instance of the AWS boto3 client for OpenSearch Serverless is created. This client allows you to interact with the OpenSearch Serverless service, which is a fully managed search and analytics service provided by AWS. The code then prints a message indicating that it will delete the specified collection and associated policies, such as encryption policy, network policy, and data access policy, based on the provided identifiers and names."
      ]
    },
    {
      "cell_type": "code",
      "execution_count": null,
      "metadata": {},
      "outputs": [],
      "source": [
        "import boto3\n",
        "\n",
        "# Create OpenSearch Serverless client\n",
        "os_client = boto3.client('opensearchserverless')\n",
        "\n",
        "print(f\"You are about to delete the following collection: {collection_id}\\nand the below policies:\\n{encryption_policy_name},\\n{network_policy_name},\\n{data_access_policy_name}\")"
      ]
    },
    {
      "cell_type": "markdown",
      "metadata": {},
      "source": [
        "In the following code cell, we will delete opensearch collection"
      ]
    },
    {
      "cell_type": "code",
      "execution_count": null,
      "metadata": {},
      "outputs": [],
      "source": [
        "import random\n",
        "try:\n",
        "    # Delete the collection\n",
        "    response = os_client.delete_collection(\n",
        "        clientToken='unique-token' + str(random.randint(1000, 9999)),\n",
        "        id=collection_id\n",
        "    )\n",
        "    print(f\"Collection deleted: {response['deleteCollectionDetail']['id']}\")\n",
        "except Exception as e:\n",
        "    print(f\"Error deleting collection: {e}\")"
      ]
    },
    {
      "cell_type": "markdown",
      "metadata": {},
      "source": [
        "In the following code cell, we will delete network policy for the Opensearch collection."
      ]
    },
    {
      "cell_type": "code",
      "execution_count": null,
      "metadata": {},
      "outputs": [],
      "source": [
        "# Delete the network policy\n",
        "try:\n",
        "    response = os_client.delete_security_policy(\n",
        "        name=network_policy_name,\n",
        "        type='network'\n",
        "    )\n",
        "    print(\"Network policy deleted\")\n",
        "except client.exceptions.ResourceNotFoundException:\n",
        "    print(\"Network policy not found\")\n",
        "except Exception as e:\n",
        "    print(f\"Error deleting network policy: {e}\")"
      ]
    },
    {
      "cell_type": "markdown",
      "metadata": {},
      "source": [
        "In the following code cell, we will delete encryption policy for the Opensearch collection"
      ]
    },
    {
      "cell_type": "code",
      "execution_count": null,
      "metadata": {},
      "outputs": [],
      "source": [
        "# Delete the encryption policy\n",
        "try:\n",
        "    response = os_client.delete_security_policy(\n",
        "        name=encryption_policy_name,\n",
        "        type='encryption'\n",
        "    )\n",
        "    print(\"Encryption policy deleted\")\n",
        "except client.exceptions.ResourceNotFoundException:\n",
        "    print(\"Encryption policy not found\")\n",
        "except Exception as e:\n",
        "    print(f\"Error deleting encryption policy: {e}\")"
      ]
    },
    {
      "cell_type": "markdown",
      "metadata": {},
      "source": [
        "In the following code cell, we will delete data access policies for the Opensearch collection"
      ]
    },
    {
      "cell_type": "code",
      "execution_count": null,
      "metadata": {},
      "outputs": [],
      "source": [
        "# Delete the data access policy\n",
        "try:\n",
        "    response = os_client.delete_access_policy(\n",
        "        name=data_access_policy_name,\n",
        "        type='data'\n",
        "    )\n",
        "    print(\"Data access policy deleted\")\n",
        "except client.exceptions.ResourceNotFoundException:\n",
        "    print(\"Data access policy not found\")\n",
        "except Exception as e:\n",
        "    print(f\"Error deleting data access policy: {e}\")    \n"
      ]
    },
    {
      "cell_type": "markdown",
      "metadata": {},
      "source": [
        "## Bedrock Prompt management clean up"
      ]
    },
    {
      "cell_type": "code",
      "execution_count": null,
      "metadata": {},
      "outputs": [],
      "source": [
        "%store -r sentiment_categorisation_prompt_id\n",
        "%store -r sentiment_categorisation_prompt_arn\n",
        "%store -r summarisation_prompt_id\n",
        "%store -r summarisation_prompt_arn\n",
        "%store -r extraction_prompt_id\n",
        "%store -r extraction_prompt_arn"
      ]
    },
    {
      "cell_type": "code",
      "execution_count": null,
      "metadata": {},
      "outputs": [],
      "source": [
        "import boto3\n",
        "bedrock_agent_client = boto3.client('bedrock-agent')\n",
        "prompt_identifiers = [sentiment_categorisation_prompt_id, summarisation_prompt_id, extraction_prompt_id]\n",
        "\n",
        "try:\n",
        "    for prompt_identifier in prompt_identifiers:\n",
        "        # Delete the prompt\n",
        "        response = bedrock_agent_client.delete_prompt(\n",
        "            promptIdentifier=prompt_identifier\n",
        "        )\n",
        "        print(f\"Prompt '{prompt_identifier}' deleted successfully.\")\n",
        "except Exception as e:\n",
        "    print(f\"Error deleting prompt: {e}\")"
      ]
    },
    {
      "cell_type": "code",
      "execution_count": null,
      "metadata": {},
      "outputs": [],
      "source": []
    }
  ],
  "metadata": {
    "kernelspec": {
      "display_name": "Python 3",
      "language": "python",
      "name": "python3"
    },
    "language_info": {
      "codemirror_mode": {
        "name": "ipython",
        "version": 3
      },
      "file_extension": ".py",
      "mimetype": "text/x-python",
      "name": "python",
      "nbconvert_exporter": "python",
      "pygments_lexer": "ipython3",
      "version": "3.12.4"
    }
  },
  "nbformat": 4,
  "nbformat_minor": 2
}
